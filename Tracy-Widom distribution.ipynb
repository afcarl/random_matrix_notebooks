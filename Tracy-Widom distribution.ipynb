{
 "cells": [
  {
   "cell_type": "markdown",
   "metadata": {},
   "source": [
    "# Tracy-Widom distribution"
   ]
  },
  {
   "cell_type": "markdown",
   "metadata": {},
   "source": [
    "Tracy and Widom showed that the cumulative distribution function $F_2$ for the deviations of the largest eigenvalue of the GUE, suitably centred and normalized, is given by\n",
    "\n",
    "$$F_2(x) = \\exp(-I(x)),$$\n",
    "\n",
    "where $$I(x) = \\int_x^\\infty (t-x) \\, q(t)^2 dt,$$\n",
    "\n",
    "so that $I''(x) = q(x)^2$, where $q(t)$ satisfies\n",
    "\n",
    "$$\\ddot{q}(t) = t \\, q(t) + 2 q(t)^3.$$"
   ]
  },
  {
   "cell_type": "markdown",
   "metadata": {},
   "source": [
    "## Analytics: numerical solution of the differential equation"
   ]
  },
  {
   "cell_type": "markdown",
   "metadata": {},
   "source": [
    "We can convert this into the following system of ordinary differential equations:"
   ]
  },
  {
   "cell_type": "markdown",
   "metadata": {},
   "source": [
    "$$\n",
    "\\frac{d}{dt}\n",
    "\\begin{pmatrix}\n",
    "    q \\\\ q' \\\\ I \\\\ I'\n",
    "\\end{pmatrix}\n",
    "=\n",
    "\\begin{pmatrix}\n",
    "q' \\\\ t \\, q + 2q^3 \\\\ I' \\\\ q^2\n",
    "\\end{pmatrix},\n",
    "$$"
   ]
  },
  {
   "cell_type": "markdown",
   "metadata": {},
   "source": [
    "with the boundary condition $q(t) \\sim \\mathrm{Ai}(t)$ as $t \\to \\infty$, where $\\mathrm{Ai}(t)$ is the Airy function. Numerically, we impose this boundary condition at a \"sufficiently large\" $t_0$ on both $q(t_0)$ and $q'(t_0)$. We will denote $\\mathbf{x} = (q, q', I, I')$. "
   ]
  },
  {
   "cell_type": "markdown",
   "metadata": {},
   "source": [
    "We can solve this in Julia using the `ode45` adaptive Runge-Kutta method, provided by the `ODE.jl` package; the following is based on the MATLAB version in Alan Edelman's book. "
   ]
  },
  {
   "cell_type": "code",
   "execution_count": 1,
   "metadata": {
    "collapsed": false
   },
   "outputs": [],
   "source": [
    "using ODE   # Julia package for solving ODEs"
   ]
  },
  {
   "cell_type": "code",
   "execution_count": 2,
   "metadata": {
    "collapsed": false
   },
   "outputs": [
    {
     "data": {
      "text/plain": [
       "-6.0"
      ]
     },
     "execution_count": 2,
     "metadata": {},
     "output_type": "execute_result"
    }
   ],
   "source": [
    "t0 = 5.0\n",
    "t_final = -6.0"
   ]
  },
  {
   "cell_type": "code",
   "execution_count": 3,
   "metadata": {
    "collapsed": false
   },
   "outputs": [],
   "source": [
    "xx0 = [airy(t0), airy(1, t0), 0, airy(t0)^2];"
   ]
  },
  {
   "cell_type": "code",
   "execution_count": 4,
   "metadata": {
    "collapsed": false
   },
   "outputs": [
    {
     "data": {
      "text/plain": [
       "Tracy_Widom (generic function with 1 method)"
      ]
     },
     "execution_count": 4,
     "metadata": {},
     "output_type": "execute_result"
    }
   ],
   "source": [
    "function Tracy_Widom(t, xx)      # xx is a vector\n",
    "    q, q′, I, I′ = xx            # Extract its components;  \"′\" is written \\prime<TAB>\n",
    "    \n",
    "    [q′, t*q + 2q^3, I′, q^2]    # return this vector\n",
    "end"
   ]
  },
  {
   "cell_type": "code",
   "execution_count": 5,
   "metadata": {
    "collapsed": false
   },
   "outputs": [],
   "source": [
    "t, xx = ode45(Tracy_Widom, xx0, [t0, t_final], maxstep=0.01) ;   "
   ]
  },
  {
   "cell_type": "code",
   "execution_count": 6,
   "metadata": {
    "collapsed": false
   },
   "outputs": [],
   "source": [
    "# Convert xx to a matrix and extract components:\n",
    "\n",
    "xx = hcat(xx...)'\n",
    "II = xx[:, 3]   # 3rd column\n",
    "II′ = xx[:, 4];"
   ]
  },
  {
   "cell_type": "markdown",
   "metadata": {
    "collapsed": false
   },
   "source": [
    "We can now plot the PDF, given by $p(x) = F_2'(x) = -I'(x) \\exp(-I(x))$:"
   ]
  },
  {
   "cell_type": "code",
   "execution_count": 7,
   "metadata": {
    "collapsed": true
   },
   "outputs": [],
   "source": [
    "using PyPlot"
   ]
  },
  {
   "cell_type": "code",
   "execution_count": 8,
   "metadata": {
    "collapsed": false
   },
   "outputs": [
    {
     "data": {
      "image/png": "[encoded data removed]",
      "text/plain": [
       "PyPlot.Figure(PyObject <matplotlib.figure.Figure object at 0x31e370c10>)"
      ]
     },
     "metadata": {},
     "output_type": "display_data"
    }
   ],
   "source": [
    "pdf = -II′ .* exp(-II)\n",
    "plot(t, pdf);"
   ]
  },
  {
   "cell_type": "markdown",
   "metadata": {},
   "source": [
    "## Numerics: Monte Carlo"
   ]
  },
  {
   "cell_type": "code",
   "execution_count": 9,
   "metadata": {
    "collapsed": false
   },
   "outputs": [
    {
     "data": {
      "text/plain": [
       "maximum_evals (generic function with 1 method)"
      ]
     },
     "execution_count": 9,
     "metadata": {},
     "output_type": "execute_result"
    }
   ],
   "source": [
    "function maximum_evals(n, num_iterations)\n",
    "    evals = Float64[]\n",
    "\n",
    "    for i in 1:num_iterations\n",
    "        M = randn(n, n) + im*randn(n, n)\n",
    "        S = (M + M') / 2\n",
    "        push!(evals, maximum(eigvals(S)))\n",
    "    end\n",
    "    \n",
    "    evals = n^(1//6) * (evals - 2*√n)\n",
    "\n",
    "end"
   ]
  },
  {
   "cell_type": "code",
   "execution_count": 10,
   "metadata": {
    "collapsed": false
   },
   "outputs": [
    {
     "name": "stdout",
     "output_type": "stream",
     "text": [
      " 88"
     ]
    }
   ],
   "source": [
    "v = @time maximum_evals(100, 10000);"
   ]
  },
  {
   "cell_type": "code",
   "execution_count": 15,
   "metadata": {
    "collapsed": false
   },
   "outputs": [
    {
     "data": {
      "image/png": "[encoded data removed]",
      "text/plain": [
       "PyPlot.Figure(PyObject <matplotlib.figure.Figure object at 0x321604b10>)"
      ]
     },
     "metadata": {},
     "output_type": "display_data"
    }
   ],
   "source": [
    "plt[:hist](v, 100, normed=true)\n",
    "plot(t, pdf);"
   ]
  },
  {
   "cell_type": "markdown",
   "metadata": {},
   "source": [
    "A much better (=faster) numerical method is available by using the tridiagonal model, instead of this dense matrix model."
   ]
  }
 ],
 "metadata": {
  "kernelspec": {
   "display_name": "Julia 0.4.3",
   "language": "julia",
   "name": "julia-0.4"
  },
  "language_info": {
   "file_extension": ".jl",
   "mimetype": "application/julia",
   "name": "julia",
   "version": "0.4.3"
  }
 },
 "nbformat": 4,
 "nbformat_minor": 0
}
